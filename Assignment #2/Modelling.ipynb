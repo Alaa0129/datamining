{
 "cells": [
  {
   "cell_type": "markdown",
   "metadata": {},
   "source": [
    "### Modelling"
   ]
  },
  {
   "cell_type": "code",
   "execution_count": 1,
   "metadata": {},
   "outputs": [],
   "source": [
    "# Sampling libraries\n",
    "from imblearn.over_sampling import RandomOverSampler\n",
    "from collections import Counter\n",
    "from sklearn.model_selection import train_test_split\n",
    "from Eda import *\n",
    "from sklearn.utils import resample\n",
    "\n",
    "# sklearn packages for Decision Tree\n",
    "from sklearn import metrics\n",
    "from sklearn.tree import DecisionTreeClassifier\n",
    "from sklearn import tree\n",
    "from sklearn.metrics import confusion_matrix, accuracy_score, precision_score, recall_score, f1_score, roc_curve, auc \n",
    "from sklearn.metrics import roc_auc_score\n",
    "\n",
    "# sklearn packages for Random Forest\n",
    "from sklearn.ensemble import RandomForestClassifier\n",
    "from sklearn.discriminant_analysis import StandardScaler\n",
    "\n",
    "# sklearn packages for KNNeighbors\n",
    "from sklearn.neighbors import KNeighborsClassifier\n",
    "\n",
    "# sklearn packages for NN\n",
    "from sklearn.neural_network import MLPClassifier\n",
    "\n",
    "# Set print options\n",
    "pd.set_option('display.max_columns', None)\n",
    "\n",
    "from tqdm import tqdm"
   ]
  },
  {
   "cell_type": "code",
   "execution_count": 20,
   "metadata": {},
   "outputs": [],
   "source": [
    "df = df[['Medu', 'Fedu', 'studytime', 'address', 'goout', 'higher', 'paid', 'internet', 'Mjob', 'Fjob', 'schoolsup', 'sex', 'traveltime', 'romantic', 'age', 'G3']]\n",
    "df2 = df[['Medu', 'Fedu', 'higher', 'age', 'G3']]\n",
    "\n",
    "X = df.drop('G3', axis=1).values\n",
    "y = df['G3'].values\n",
    "\n",
    "x2 = df2.drop('G3', axis=1).values\n",
    "y2 = df2['G3'].values"
   ]
  },
  {
   "cell_type": "code",
   "execution_count": 3,
   "metadata": {},
   "outputs": [],
   "source": [
    "# # split data into test and train - 80/20\n",
    "# for i in range(1, 100):\n",
    "#     X_train, X_test, y_train, y_test = train_test_split(X, y, test_size=0.2, random_state=i)"
   ]
  },
  {
   "cell_type": "code",
   "execution_count": 21,
   "metadata": {},
   "outputs": [],
   "source": [
    "def evaluate_model(model, X_test, y_test):\n",
    "    # Fit the model\n",
    "    # model.fit(X_train, y_train)\n",
    "\n",
    "    # Make predictions\n",
    "    y_pred = model.predict(X_test)\n",
    "\n",
    "    # Calculate metrics\n",
    "    accuracy = accuracy_score(y_test, y_pred)\n",
    "\n",
    "    # Return the results\n",
    "    return {\n",
    "        'Model': model.__class__.__name__,\n",
    "        'Accuracy': accuracy,\n",
    "    }"
   ]
  },
  {
   "cell_type": "code",
   "execution_count": 5,
   "metadata": {},
   "outputs": [
    {
     "data": {
      "text/html": [
       "<div>\n",
       "<style scoped>\n",
       "    .dataframe tbody tr th:only-of-type {\n",
       "        vertical-align: middle;\n",
       "    }\n",
       "\n",
       "    .dataframe tbody tr th {\n",
       "        vertical-align: top;\n",
       "    }\n",
       "\n",
       "    .dataframe thead th {\n",
       "        text-align: right;\n",
       "    }\n",
       "</style>\n",
       "<table border=\"1\" class=\"dataframe\">\n",
       "  <thead>\n",
       "    <tr style=\"text-align: right;\">\n",
       "      <th></th>\n",
       "      <th>Medu</th>\n",
       "      <th>Fedu</th>\n",
       "      <th>studytime</th>\n",
       "      <th>address</th>\n",
       "      <th>goout</th>\n",
       "      <th>higher</th>\n",
       "      <th>paid</th>\n",
       "      <th>internet</th>\n",
       "      <th>Mjob</th>\n",
       "      <th>Fjob</th>\n",
       "      <th>schoolsup</th>\n",
       "      <th>sex</th>\n",
       "      <th>traveltime</th>\n",
       "      <th>romantic</th>\n",
       "      <th>age</th>\n",
       "      <th>G3</th>\n",
       "    </tr>\n",
       "  </thead>\n",
       "  <tbody>\n",
       "    <tr>\n",
       "      <th>0</th>\n",
       "      <td>4</td>\n",
       "      <td>4</td>\n",
       "      <td>2</td>\n",
       "      <td>1</td>\n",
       "      <td>4</td>\n",
       "      <td>1</td>\n",
       "      <td>0</td>\n",
       "      <td>0</td>\n",
       "      <td>3</td>\n",
       "      <td>0</td>\n",
       "      <td>1</td>\n",
       "      <td>1</td>\n",
       "      <td>2</td>\n",
       "      <td>0</td>\n",
       "      <td>18</td>\n",
       "      <td>1</td>\n",
       "    </tr>\n",
       "    <tr>\n",
       "      <th>1</th>\n",
       "      <td>1</td>\n",
       "      <td>1</td>\n",
       "      <td>2</td>\n",
       "      <td>1</td>\n",
       "      <td>3</td>\n",
       "      <td>1</td>\n",
       "      <td>0</td>\n",
       "      <td>1</td>\n",
       "      <td>3</td>\n",
       "      <td>4</td>\n",
       "      <td>0</td>\n",
       "      <td>1</td>\n",
       "      <td>1</td>\n",
       "      <td>0</td>\n",
       "      <td>17</td>\n",
       "      <td>1</td>\n",
       "    </tr>\n",
       "    <tr>\n",
       "      <th>2</th>\n",
       "      <td>1</td>\n",
       "      <td>1</td>\n",
       "      <td>2</td>\n",
       "      <td>1</td>\n",
       "      <td>2</td>\n",
       "      <td>1</td>\n",
       "      <td>1</td>\n",
       "      <td>1</td>\n",
       "      <td>3</td>\n",
       "      <td>4</td>\n",
       "      <td>1</td>\n",
       "      <td>1</td>\n",
       "      <td>1</td>\n",
       "      <td>0</td>\n",
       "      <td>15</td>\n",
       "      <td>1</td>\n",
       "    </tr>\n",
       "    <tr>\n",
       "      <th>3</th>\n",
       "      <td>4</td>\n",
       "      <td>2</td>\n",
       "      <td>3</td>\n",
       "      <td>1</td>\n",
       "      <td>2</td>\n",
       "      <td>1</td>\n",
       "      <td>1</td>\n",
       "      <td>1</td>\n",
       "      <td>1</td>\n",
       "      <td>5</td>\n",
       "      <td>0</td>\n",
       "      <td>1</td>\n",
       "      <td>1</td>\n",
       "      <td>1</td>\n",
       "      <td>15</td>\n",
       "      <td>2</td>\n",
       "    </tr>\n",
       "    <tr>\n",
       "      <th>4</th>\n",
       "      <td>3</td>\n",
       "      <td>3</td>\n",
       "      <td>2</td>\n",
       "      <td>1</td>\n",
       "      <td>2</td>\n",
       "      <td>1</td>\n",
       "      <td>1</td>\n",
       "      <td>0</td>\n",
       "      <td>4</td>\n",
       "      <td>4</td>\n",
       "      <td>0</td>\n",
       "      <td>1</td>\n",
       "      <td>1</td>\n",
       "      <td>0</td>\n",
       "      <td>16</td>\n",
       "      <td>1</td>\n",
       "    </tr>\n",
       "    <tr>\n",
       "      <th>...</th>\n",
       "      <td>...</td>\n",
       "      <td>...</td>\n",
       "      <td>...</td>\n",
       "      <td>...</td>\n",
       "      <td>...</td>\n",
       "      <td>...</td>\n",
       "      <td>...</td>\n",
       "      <td>...</td>\n",
       "      <td>...</td>\n",
       "      <td>...</td>\n",
       "      <td>...</td>\n",
       "      <td>...</td>\n",
       "      <td>...</td>\n",
       "      <td>...</td>\n",
       "      <td>...</td>\n",
       "      <td>...</td>\n",
       "    </tr>\n",
       "    <tr>\n",
       "      <th>390</th>\n",
       "      <td>2</td>\n",
       "      <td>2</td>\n",
       "      <td>2</td>\n",
       "      <td>1</td>\n",
       "      <td>4</td>\n",
       "      <td>1</td>\n",
       "      <td>1</td>\n",
       "      <td>0</td>\n",
       "      <td>5</td>\n",
       "      <td>5</td>\n",
       "      <td>0</td>\n",
       "      <td>0</td>\n",
       "      <td>1</td>\n",
       "      <td>0</td>\n",
       "      <td>20</td>\n",
       "      <td>1</td>\n",
       "    </tr>\n",
       "    <tr>\n",
       "      <th>391</th>\n",
       "      <td>3</td>\n",
       "      <td>1</td>\n",
       "      <td>1</td>\n",
       "      <td>1</td>\n",
       "      <td>5</td>\n",
       "      <td>1</td>\n",
       "      <td>0</td>\n",
       "      <td>1</td>\n",
       "      <td>5</td>\n",
       "      <td>5</td>\n",
       "      <td>0</td>\n",
       "      <td>0</td>\n",
       "      <td>2</td>\n",
       "      <td>0</td>\n",
       "      <td>17</td>\n",
       "      <td>3</td>\n",
       "    </tr>\n",
       "    <tr>\n",
       "      <th>392</th>\n",
       "      <td>1</td>\n",
       "      <td>1</td>\n",
       "      <td>1</td>\n",
       "      <td>0</td>\n",
       "      <td>3</td>\n",
       "      <td>1</td>\n",
       "      <td>0</td>\n",
       "      <td>0</td>\n",
       "      <td>4</td>\n",
       "      <td>4</td>\n",
       "      <td>0</td>\n",
       "      <td>0</td>\n",
       "      <td>1</td>\n",
       "      <td>0</td>\n",
       "      <td>21</td>\n",
       "      <td>1</td>\n",
       "    </tr>\n",
       "    <tr>\n",
       "      <th>393</th>\n",
       "      <td>3</td>\n",
       "      <td>2</td>\n",
       "      <td>1</td>\n",
       "      <td>0</td>\n",
       "      <td>1</td>\n",
       "      <td>1</td>\n",
       "      <td>0</td>\n",
       "      <td>1</td>\n",
       "      <td>5</td>\n",
       "      <td>4</td>\n",
       "      <td>0</td>\n",
       "      <td>0</td>\n",
       "      <td>3</td>\n",
       "      <td>0</td>\n",
       "      <td>18</td>\n",
       "      <td>1</td>\n",
       "    </tr>\n",
       "    <tr>\n",
       "      <th>394</th>\n",
       "      <td>1</td>\n",
       "      <td>1</td>\n",
       "      <td>1</td>\n",
       "      <td>1</td>\n",
       "      <td>3</td>\n",
       "      <td>1</td>\n",
       "      <td>0</td>\n",
       "      <td>1</td>\n",
       "      <td>4</td>\n",
       "      <td>3</td>\n",
       "      <td>0</td>\n",
       "      <td>0</td>\n",
       "      <td>1</td>\n",
       "      <td>0</td>\n",
       "      <td>19</td>\n",
       "      <td>1</td>\n",
       "    </tr>\n",
       "  </tbody>\n",
       "</table>\n",
       "<p>395 rows × 16 columns</p>\n",
       "</div>"
      ],
      "text/plain": [
       "     Medu  Fedu  studytime  address  goout  higher  paid  internet  Mjob  \\\n",
       "0       4     4          2        1      4       1     0         0     3   \n",
       "1       1     1          2        1      3       1     0         1     3   \n",
       "2       1     1          2        1      2       1     1         1     3   \n",
       "3       4     2          3        1      2       1     1         1     1   \n",
       "4       3     3          2        1      2       1     1         0     4   \n",
       "..    ...   ...        ...      ...    ...     ...   ...       ...   ...   \n",
       "390     2     2          2        1      4       1     1         0     5   \n",
       "391     3     1          1        1      5       1     0         1     5   \n",
       "392     1     1          1        0      3       1     0         0     4   \n",
       "393     3     2          1        0      1       1     0         1     5   \n",
       "394     1     1          1        1      3       1     0         1     4   \n",
       "\n",
       "     Fjob  schoolsup  sex  traveltime  romantic  age  G3  \n",
       "0       0          1    1           2         0   18   1  \n",
       "1       4          0    1           1         0   17   1  \n",
       "2       4          1    1           1         0   15   1  \n",
       "3       5          0    1           1         1   15   2  \n",
       "4       4          0    1           1         0   16   1  \n",
       "..    ...        ...  ...         ...       ...  ...  ..  \n",
       "390     5          0    0           1         0   20   1  \n",
       "391     5          0    0           2         0   17   3  \n",
       "392     4          0    0           1         0   21   1  \n",
       "393     4          0    0           3         0   18   1  \n",
       "394     3          0    0           1         0   19   1  \n",
       "\n",
       "[395 rows x 16 columns]"
      ]
     },
     "execution_count": 5,
     "metadata": {},
     "output_type": "execute_result"
    }
   ],
   "source": [
    "df"
   ]
  },
  {
   "cell_type": "code",
   "execution_count": 22,
   "metadata": {},
   "outputs": [],
   "source": [
    "X_train, X_test, y_train, y_test = train_test_split(X, y, test_size=0.2, random_state=42)\n",
    "X_train2, X_test2, y_train2, y_test2 = train_test_split(x2, y2, test_size=0.2, random_state=42)\n"
   ]
  },
  {
   "cell_type": "code",
   "execution_count": 23,
   "metadata": {},
   "outputs": [],
   "source": [
    "X_resampled, y_resampled = resample(X_train, y_train, replace=True, n_samples=20000, random_state=42)\n",
    "X_resampled2, y_resampled2 = resample(X_train2, y_train2, replace=True, n_samples=20000, random_state=42)"
   ]
  },
  {
   "cell_type": "markdown",
   "metadata": {},
   "source": [
    "#### Decision tree"
   ]
  },
  {
   "cell_type": "code",
   "execution_count": 25,
   "metadata": {},
   "outputs": [
    {
     "name": "stdout",
     "output_type": "stream",
     "text": [
      "4\n",
      "2\n",
      "{'Model': 'DecisionTreeClassifier', 'Accuracy': 0.5063291139240507}\n",
      "18\n",
      "2\n",
      "{'Model': 'DecisionTreeClassifier', 'Accuracy': 0.5063291139240507}\n",
      "26\n",
      "1\n",
      "{'Model': 'DecisionTreeClassifier', 'Accuracy': 0.5189873417721519}\n",
      "36\n",
      "2\n",
      "{'Model': 'DecisionTreeClassifier', 'Accuracy': 0.5189873417721519}\n",
      "40\n",
      "2\n",
      "{'Model': 'DecisionTreeClassifier', 'Accuracy': 0.5063291139240507}\n",
      "43\n",
      "1\n",
      "{'Model': 'DecisionTreeClassifier', 'Accuracy': 0.5189873417721519}\n",
      "47\n",
      "1\n",
      "{'Model': 'DecisionTreeClassifier', 'Accuracy': 0.5063291139240507}\n",
      "48\n",
      "5\n",
      "{'Model': 'DecisionTreeClassifier', 'Accuracy': 0.5063291139240507}\n",
      "76\n",
      "3\n",
      "{'Model': 'DecisionTreeClassifier', 'Accuracy': 0.5316455696202531}\n",
      "78\n",
      "3\n",
      "{'Model': 'DecisionTreeClassifier', 'Accuracy': 0.5063291139240507}\n",
      "98\n",
      "2\n",
      "{'Model': 'DecisionTreeClassifier', 'Accuracy': 0.5443037974683544}\n"
     ]
    }
   ],
   "source": [
    "# split data into test and train - 80/20\n",
    "for i in range(1, 100):\n",
    "    for j in range(1, 15):\n",
    "        X_train_i, X_test_i, y_train_i, y_test_i = train_test_split(X, y, test_size=0.2, random_state=i)\n",
    "        clf = DecisionTreeClassifier(criterion=\"entropy\", max_depth=j)\n",
    "        clf.fit(X_train_i, y_train_i)\n",
    "        if evaluate_model(clf, X_test_i, y_test_i)['Accuracy'] > 0.5:\n",
    "            print(i)\n",
    "            print(j)\n",
    "            print(evaluate_model(clf, X_test_i, y_test_i))\n",
    "            break"
   ]
  },
  {
   "cell_type": "code",
   "execution_count": 24,
   "metadata": {},
   "outputs": [
    {
     "name": "stdout",
     "output_type": "stream",
     "text": [
      "7\n",
      "4\n",
      "{'Model': 'DecisionTreeClassifier', 'Accuracy': 0.5189873417721519}\n",
      "9\n",
      "1\n",
      "{'Model': 'DecisionTreeClassifier', 'Accuracy': 0.5063291139240507}\n",
      "18\n",
      "2\n",
      "{'Model': 'DecisionTreeClassifier', 'Accuracy': 0.5063291139240507}\n",
      "43\n",
      "1\n",
      "{'Model': 'DecisionTreeClassifier', 'Accuracy': 0.5189873417721519}\n",
      "55\n",
      "1\n",
      "{'Model': 'DecisionTreeClassifier', 'Accuracy': 0.5063291139240507}\n",
      "98\n",
      "2\n",
      "{'Model': 'DecisionTreeClassifier', 'Accuracy': 0.5316455696202531}\n"
     ]
    }
   ],
   "source": [
    "for i in range(1, 100):\n",
    "    for j in range(1, 15):\n",
    "        X_train_i, X_test_i, y_train_i, y_test_i = train_test_split(x2, y2, test_size=0.2, random_state=i)\n",
    "        clf = DecisionTreeClassifier(criterion=\"entropy\", max_depth=j)\n",
    "        clf.fit(X_train_i, y_train_i)\n",
    "        if evaluate_model(clf, X_test_i, y_test_i)['Accuracy'] > 0.5:\n",
    "            print(i)\n",
    "            print(j)\n",
    "            print(evaluate_model(clf, X_test_i, y_test_i))\n",
    "            break"
   ]
  },
  {
   "cell_type": "markdown",
   "metadata": {},
   "source": [
    "#### Random Forest"
   ]
  },
  {
   "cell_type": "code",
   "execution_count": 24,
   "metadata": {},
   "outputs": [],
   "source": [
    "# rf = RandomForestClassifier()\n",
    "\n",
    "# # fit and predict\n",
    "# rf.fit(X_train, y_train)\n",
    "# y_pred = rf.predict(X_test)\n",
    "\n",
    "# # calculate the R^2 score\n",
    "# rsquared = rf.score(X_test, y_test)\n",
    "# y_test += 1\n",
    "# y_pred += 1\n",
    "\n",
    "# rel_error = np.mean(np.abs(y_test - y_pred) / y_test)\n",
    "# rel_error_med = np.median(np.abs(y_test - y_pred) / y_test)\n",
    "# rel_quan = np.quantile(np.abs(y_test - y_pred) / y_test, [0.1, 0.2, 0.3, 0.4, 0.5, 0.6, 0.7, 0.8, 0.9])\n",
    "\n",
    "# print(f'Relative error: {rel_error * 100 :.3f} %')\n",
    "# print(f'Relative median error: {rel_error_med * 100 :.3f} %')\n",
    "# print(rel_quan * 100, '%')\n",
    "# print(f'R squared: {rsquared:.3f}')"
   ]
  },
  {
   "cell_type": "code",
   "execution_count": 25,
   "metadata": {},
   "outputs": [],
   "source": [
    "# fig, ax = plt.subplots(ncols=1, figsize=(9,5))\n",
    "# fig.suptitle(f'True vs predicted')\n",
    "# ax.plot(y_test, y_pred, '.', markersize = 1.5, alpha = .6)\n",
    "# ax.set(xlabel = 'True value', ylabel = 'Predicted value', title = 'Validation data')\n",
    "# fig.tight_layout()"
   ]
  },
  {
   "cell_type": "markdown",
   "metadata": {},
   "source": [
    "#### KNN"
   ]
  },
  {
   "cell_type": "code",
   "execution_count": 38,
   "metadata": {},
   "outputs": [
    {
     "name": "stdout",
     "output_type": "stream",
     "text": [
      "98\n",
      "26\n",
      "{'Model': 'KNeighborsClassifier', 'Accuracy': 0.6075949367088608}\n",
      "\n"
     ]
    }
   ],
   "source": [
    "\n",
    "for i in range(1, 100):\n",
    "    for j in range(1, 100):\n",
    "\n",
    "        X_train_i, X_test_i, y_train_i, y_test_i = train_test_split(X, y, test_size=0.2, random_state=i)\n",
    "        knn = KNeighborsClassifier(n_neighbors=j, metric='euclidean', weights='distance')\n",
    "        scaler = StandardScaler()\n",
    "\n",
    "        scaler.fit(X_train_i)\n",
    "        X_train_std = scaler.transform(X_train_i)\n",
    "\n",
    "        knn.fit(X_train_std, y_train_i)\n",
    "\n",
    "        X_test_std = scaler.transform(X_test_i)\n",
    "\n",
    "        y_S_pred_2 = knn.predict(X_test_std)\n",
    "\n",
    "        if evaluate_model(knn, X_test_i, y_test_i)['Accuracy'] > 0.6:\n",
    "                print(i)\n",
    "                print(j)\n",
    "                print(evaluate_model(knn, X_test_i, y_test_i))\n",
    "                print()\n",
    "                break"
   ]
  },
  {
   "cell_type": "code",
   "execution_count": 27,
   "metadata": {},
   "outputs": [
    {
     "name": "stderr",
     "output_type": "stream",
     "text": [
      "  5%|▌         | 5/99 [00:00<00:06, 13.74it/s]"
     ]
    },
    {
     "name": "stdout",
     "output_type": "stream",
     "text": [
      "4\n",
      "10\n",
      "{'Model': 'KNeighborsClassifier', 'Accuracy': 0.5063291139240507}\n",
      "\n"
     ]
    },
    {
     "name": "stderr",
     "output_type": "stream",
     "text": [
      "  7%|▋         | 7/99 [00:00<00:07, 12.83it/s]"
     ]
    },
    {
     "name": "stdout",
     "output_type": "stream",
     "text": [
      "7\n",
      "27\n",
      "{'Model': 'KNeighborsClassifier', 'Accuracy': 0.5316455696202531}\n",
      "\n"
     ]
    },
    {
     "name": "stderr",
     "output_type": "stream",
     "text": [
      " 11%|█         | 11/99 [00:00<00:07, 11.49it/s]"
     ]
    },
    {
     "name": "stdout",
     "output_type": "stream",
     "text": [
      "11\n",
      "14\n",
      "{'Model': 'KNeighborsClassifier', 'Accuracy': 0.5189873417721519}\n",
      "\n"
     ]
    },
    {
     "name": "stderr",
     "output_type": "stream",
     "text": [
      " 17%|█▋        | 17/99 [00:01<00:07, 10.83it/s]"
     ]
    },
    {
     "name": "stdout",
     "output_type": "stream",
     "text": [
      "16\n",
      "21\n",
      "{'Model': 'KNeighborsClassifier', 'Accuracy': 0.5189873417721519}\n",
      "\n"
     ]
    },
    {
     "name": "stderr",
     "output_type": "stream",
     "text": [
      " 35%|███▌      | 35/99 [00:03<00:05, 11.27it/s]"
     ]
    },
    {
     "name": "stdout",
     "output_type": "stream",
     "text": [
      "34\n",
      "12\n",
      "{'Model': 'KNeighborsClassifier', 'Accuracy': 0.5443037974683544}\n",
      "\n",
      "36\n",
      "18\n",
      "{'Model': 'KNeighborsClassifier', 'Accuracy': 0.5189873417721519}\n",
      "\n"
     ]
    },
    {
     "name": "stderr",
     "output_type": "stream",
     "text": [
      " 42%|████▏     | 42/99 [00:03<00:04, 12.09it/s]"
     ]
    },
    {
     "name": "stdout",
     "output_type": "stream",
     "text": [
      "40\n",
      "21\n",
      "{'Model': 'KNeighborsClassifier', 'Accuracy': 0.5063291139240507}\n",
      "\n",
      "41\n",
      "14\n",
      "{'Model': 'KNeighborsClassifier', 'Accuracy': 0.5316455696202531}\n",
      "\n"
     ]
    },
    {
     "name": "stderr",
     "output_type": "stream",
     "text": [
      " 48%|████▊     | 48/99 [00:04<00:04, 10.59it/s]"
     ]
    },
    {
     "name": "stdout",
     "output_type": "stream",
     "text": [
      "47\n",
      "26\n",
      "{'Model': 'KNeighborsClassifier', 'Accuracy': 0.5189873417721519}\n",
      "\n"
     ]
    },
    {
     "name": "stderr",
     "output_type": "stream",
     "text": [
      " 57%|█████▋    | 56/99 [00:05<00:04, 10.45it/s]"
     ]
    },
    {
     "name": "stdout",
     "output_type": "stream",
     "text": [
      "55\n",
      "18\n",
      "{'Model': 'KNeighborsClassifier', 'Accuracy': 0.5189873417721519}\n",
      "\n"
     ]
    },
    {
     "name": "stderr",
     "output_type": "stream",
     "text": [
      " 61%|██████    | 60/99 [00:05<00:03,  9.82it/s]"
     ]
    },
    {
     "name": "stdout",
     "output_type": "stream",
     "text": [
      "59\n",
      "28\n",
      "{'Model': 'KNeighborsClassifier', 'Accuracy': 0.5063291139240507}\n",
      "\n"
     ]
    },
    {
     "name": "stderr",
     "output_type": "stream",
     "text": [
      " 64%|██████▎   | 63/99 [00:06<00:04,  8.33it/s]"
     ]
    },
    {
     "name": "stdout",
     "output_type": "stream",
     "text": [
      "62\n",
      "26\n",
      "{'Model': 'KNeighborsClassifier', 'Accuracy': 0.5443037974683544}\n",
      "\n"
     ]
    },
    {
     "name": "stderr",
     "output_type": "stream",
     "text": [
      " 88%|████████▊ | 87/99 [00:08<00:00, 12.29it/s]"
     ]
    },
    {
     "name": "stdout",
     "output_type": "stream",
     "text": [
      "85\n",
      "18\n",
      "{'Model': 'KNeighborsClassifier', 'Accuracy': 0.5063291139240507}\n",
      "\n",
      "86\n",
      "10\n",
      "{'Model': 'KNeighborsClassifier', 'Accuracy': 0.5189873417721519}\n",
      "\n"
     ]
    },
    {
     "name": "stderr",
     "output_type": "stream",
     "text": [
      " 90%|████████▉ | 89/99 [00:08<00:00, 11.83it/s]"
     ]
    },
    {
     "name": "stdout",
     "output_type": "stream",
     "text": [
      "89\n",
      "21\n",
      "{'Model': 'KNeighborsClassifier', 'Accuracy': 0.5189873417721519}\n",
      "\n"
     ]
    },
    {
     "name": "stderr",
     "output_type": "stream",
     "text": [
      " 98%|█████████▊| 97/99 [00:09<00:00, 10.41it/s]"
     ]
    },
    {
     "name": "stdout",
     "output_type": "stream",
     "text": [
      "95\n",
      "21\n",
      "{'Model': 'KNeighborsClassifier', 'Accuracy': 0.5316455696202531}\n",
      "\n"
     ]
    },
    {
     "name": "stderr",
     "output_type": "stream",
     "text": [
      "100%|██████████| 99/99 [00:09<00:00, 10.00it/s]"
     ]
    },
    {
     "name": "stdout",
     "output_type": "stream",
     "text": [
      "98\n",
      "16\n",
      "{'Model': 'KNeighborsClassifier', 'Accuracy': 0.5316455696202531}\n",
      "\n"
     ]
    },
    {
     "name": "stderr",
     "output_type": "stream",
     "text": [
      "\n"
     ]
    }
   ],
   "source": [
    "for i in tqdm (range(1, 100)):\n",
    "    for j in range(10, 30):\n",
    "\n",
    "        X_train_i, X_test_i, y_train_i, y_test_i = train_test_split(x2, y2, test_size=0.2, random_state=i)\n",
    "        knn = KNeighborsClassifier(n_neighbors=j, metric='euclidean', weights='distance')\n",
    "        scaler = StandardScaler()\n",
    "\n",
    "        scaler.fit(X_train_i)\n",
    "        X_train_std = scaler.transform(X_train_i)\n",
    "\n",
    "        knn.fit(X_train_std, y_train_i)\n",
    "\n",
    "        X_test_std = scaler.transform(X_test_i)\n",
    "\n",
    "        y_S_pred_2 = knn.predict(X_test_std)\n",
    "\n",
    "        if evaluate_model(knn, X_test_i, y_test_i)['Accuracy'] > 0.5:\n",
    "                print(i)\n",
    "                print(j)\n",
    "                print(evaluate_model(knn, X_test_i, y_test_i))\n",
    "                print()\n",
    "                break"
   ]
  },
  {
   "cell_type": "code",
   "execution_count": 16,
   "metadata": {},
   "outputs": [
    {
     "name": "stdout",
     "output_type": "stream",
     "text": [
      "2\n",
      "0.4050632911392405\n",
      "0.005110583287093614\n",
      "[2 1 1 1 0 1 3 2 3 3 2 2 2 1 1 1 1 2 2 2 2 2 0 1 3 2 3 2 2 2 1 2 3 2 2 3 2\n",
      " 1 2 2 1 2 3 3 2 3 2 2 1 3 1 2 2 1 1 2 1 2 2 2 2 2 0 1 1 0 1 0 2 2 2 2 1 3\n",
      " 1 1 0 3 3]\n"
     ]
    },
    {
     "name": "stderr",
     "output_type": "stream",
     "text": [
      "c:\\Users\\Josef\\AppData\\Local\\Programs\\Python\\Python312\\Lib\\site-packages\\sklearn\\neural_network\\_multilayer_perceptron.py:545: ConvergenceWarning: lbfgs failed to converge (status=1):\n",
      "STOP: TOTAL NO. of ITERATIONS REACHED LIMIT.\n",
      "\n",
      "Increase the number of iterations (max_iter) or scale the data as shown in:\n",
      "    https://scikit-learn.org/stable/modules/preprocessing.html\n",
      "  self.n_iter_ = _check_optimize_result(\"lbfgs\", opt_res, self.max_iter)\n"
     ]
    }
   ],
   "source": [
    "# for i in tqdm (range(1, 10)):\n",
    "nn = MLPClassifier(hidden_layer_sizes=(100, 100, 100), max_iter=2000, activation='logistic', solver='lbfgs', learning_rate='adaptive')\n",
    "\n",
    "nn.fit(X_train, y_train)\n",
    "f = nn.predict(X_test)\n",
    "\n",
    "# if nn.score(X_test, y_test) > 0.5:\n",
    "print(i)\n",
    "print(nn.score(X_test, y_test))\n",
    "print(nn.loss_)\n",
    "print(f)"
   ]
  },
  {
   "cell_type": "code",
   "execution_count": 32,
   "metadata": {},
   "outputs": [
    {
     "name": "stdout",
     "output_type": "stream",
     "text": [
      "99\n",
      "0.379746835443038\n",
      "0.9615065418784873\n",
      "[0 0 1 2 1 0 2 2 2 2 2 2 1 2 2 2 2 1 2 0 2 1 2 2 1 2 2 2 2 1 0 1 2 1 1 2 1\n",
      " 2 1 2 1 1 1 2 2 2 1 1 2 1 2 1 2 2 2 2 1 2 2 2 2 1 1 1 2 2 1 1 2 2 1 1 2 2\n",
      " 1 2 2 2 2]\n"
     ]
    },
    {
     "name": "stderr",
     "output_type": "stream",
     "text": [
      "c:\\Users\\Josef\\AppData\\Local\\Programs\\Python\\Python312\\Lib\\site-packages\\sklearn\\neural_network\\_multilayer_perceptron.py:545: ConvergenceWarning: lbfgs failed to converge (status=1):\n",
      "STOP: TOTAL NO. of ITERATIONS REACHED LIMIT.\n",
      "\n",
      "Increase the number of iterations (max_iter) or scale the data as shown in:\n",
      "    https://scikit-learn.org/stable/modules/preprocessing.html\n",
      "  self.n_iter_ = _check_optimize_result(\"lbfgs\", opt_res, self.max_iter)\n"
     ]
    }
   ],
   "source": [
    "# for i in tqdm (range(1, 10)):\n",
    "nn = MLPClassifier(hidden_layer_sizes=(100, 100, 100), max_iter=2000, activation='logistic', solver='lbfgs', learning_rate='adaptive')\n",
    "\n",
    "nn.fit(X_train2, y_train2)\n",
    "f = nn.predict(X_test2)\n",
    "\n",
    "# if nn.score(X_test, y_test) > 0.5:\n",
    "print(i)\n",
    "print(nn.score(X_test2, y_test2))\n",
    "print(nn.loss_)\n",
    "print(f)"
   ]
  }
 ],
 "metadata": {
  "kernelspec": {
   "display_name": "Python 3",
   "language": "python",
   "name": "python3"
  },
  "language_info": {
   "codemirror_mode": {
    "name": "ipython",
    "version": 3
   },
   "file_extension": ".py",
   "mimetype": "text/x-python",
   "name": "python",
   "nbconvert_exporter": "python",
   "pygments_lexer": "ipython3",
   "version": "3.12.5"
  }
 },
 "nbformat": 4,
 "nbformat_minor": 2
}
